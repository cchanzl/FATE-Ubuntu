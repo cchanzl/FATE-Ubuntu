{
 "cells": [
  {
   "cell_type": "code",
   "execution_count": 3,
   "metadata": {},
   "outputs": [],
   "source": [
    "import pandas as pd\n",
    "import os\n",
    "\n",
    "# to change path when new data is extracted\n",
    "party_A=\"job_2021070907345924627317_homo_secureboost_0_guest_1234_output_data\"\n",
    "party_B=\"job_2021070907345924627317_homo_secureboost_0_host_2222_output_data\"\n",
    "party_C=\"job_2021070907345924627317_homo_secureboost_0_host_3333_output_data\"\n",
    "filename = \"data.csv\""
   ]
  },
  {
   "cell_type": "code",
   "execution_count": 6,
   "metadata": {},
   "outputs": [
    {
     "name": "stdout",
     "output_type": "stream",
     "text": [
      "job_2021070907345924627317_homo_secureboost_0_guest_1234_output_data\\data.csv\n"
     ]
    },
    {
     "data": {
      "text/html": [
       "<div>\n",
       "<style scoped>\n",
       "    .dataframe tbody tr th:only-of-type {\n",
       "        vertical-align: middle;\n",
       "    }\n",
       "\n",
       "    .dataframe tbody tr th {\n",
       "        vertical-align: top;\n",
       "    }\n",
       "\n",
       "    .dataframe thead th {\n",
       "        text-align: right;\n",
       "    }\n",
       "</style>\n",
       "<table border=\"1\" class=\"dataframe\">\n",
       "  <thead>\n",
       "    <tr style=\"text-align: right;\">\n",
       "      <th></th>\n",
       "      <th>id</th>\n",
       "      <th>label</th>\n",
       "      <th>predict_result</th>\n",
       "      <th>predict_score</th>\n",
       "      <th>predict_detail</th>\n",
       "      <th>type</th>\n",
       "    </tr>\n",
       "  </thead>\n",
       "  <tbody>\n",
       "    <tr>\n",
       "      <th>0</th>\n",
       "      <td>1001</td>\n",
       "      <td>150.0</td>\n",
       "      <td>116.869461</td>\n",
       "      <td>116.869461</td>\n",
       "      <td>{'label': 116.86946086790164}</td>\n",
       "      <td>train</td>\n",
       "    </tr>\n",
       "    <tr>\n",
       "      <th>1</th>\n",
       "      <td>1002</td>\n",
       "      <td>150.0</td>\n",
       "      <td>110.957911</td>\n",
       "      <td>110.957911</td>\n",
       "      <td>{'label': 110.95791119219165}</td>\n",
       "      <td>train</td>\n",
       "    </tr>\n",
       "    <tr>\n",
       "      <th>2</th>\n",
       "      <td>1003</td>\n",
       "      <td>150.0</td>\n",
       "      <td>122.615871</td>\n",
       "      <td>122.615871</td>\n",
       "      <td>{'label': 122.61587102600163}</td>\n",
       "      <td>train</td>\n",
       "    </tr>\n",
       "    <tr>\n",
       "      <th>3</th>\n",
       "      <td>1004</td>\n",
       "      <td>150.0</td>\n",
       "      <td>130.377398</td>\n",
       "      <td>130.377398</td>\n",
       "      <td>{'label': 130.37739835679164}</td>\n",
       "      <td>train</td>\n",
       "    </tr>\n",
       "    <tr>\n",
       "      <th>4</th>\n",
       "      <td>1005</td>\n",
       "      <td>150.0</td>\n",
       "      <td>123.284651</td>\n",
       "      <td>123.284651</td>\n",
       "      <td>{'label': 123.28465088354164}</td>\n",
       "      <td>train</td>\n",
       "    </tr>\n",
       "  </tbody>\n",
       "</table>\n",
       "</div>"
      ],
      "text/plain": [
       "     id  label  predict_result  predict_score                 predict_detail  \\\n",
       "0  1001  150.0      116.869461     116.869461  {'label': 116.86946086790164}   \n",
       "1  1002  150.0      110.957911     110.957911  {'label': 110.95791119219165}   \n",
       "2  1003  150.0      122.615871     122.615871  {'label': 122.61587102600163}   \n",
       "3  1004  150.0      130.377398     130.377398  {'label': 130.37739835679164}   \n",
       "4  1005  150.0      123.284651     123.284651  {'label': 123.28465088354164}   \n",
       "\n",
       "    type  \n",
       "0  train  \n",
       "1  train  \n",
       "2  train  \n",
       "3  train  \n",
       "4  train  "
      ]
     },
     "execution_count": 6,
     "metadata": {},
     "output_type": "execute_result"
    }
   ],
   "source": [
    "df_A=pd.read_csv(os.path.join(party_A, filename))\n",
    "df_B=pd.read_csv(os.path.join(party_B, filename))\n",
    "df_C=pd.read_csv(os.path.join(party_C, filename))"
   ]
  },
  {
   "cell_type": "code",
   "execution_count": null,
   "metadata": {},
   "outputs": [],
   "source": []
  }
 ],
 "metadata": {
  "kernelspec": {
   "display_name": "Python 3",
   "language": "python",
   "name": "python3"
  },
  "language_info": {
   "codemirror_mode": {
    "name": "ipython",
    "version": 3
   },
   "file_extension": ".py",
   "mimetype": "text/x-python",
   "name": "python",
   "nbconvert_exporter": "python",
   "pygments_lexer": "ipython3",
   "version": "3.7.6"
  }
 },
 "nbformat": 4,
 "nbformat_minor": 4
}
